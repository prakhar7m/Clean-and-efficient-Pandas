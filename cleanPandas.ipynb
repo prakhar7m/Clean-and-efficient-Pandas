{
 "cells": [
  {
   "cell_type": "code",
   "execution_count": 24,
   "metadata": {},
   "outputs": [],
   "source": [
    "%matplotlib inline\n",
    "import pandas as pd"
   ]
  },
  {
   "cell_type": "code",
   "execution_count": 22,
   "metadata": {},
   "outputs": [
    {
     "data": {
      "text/html": [
       "<style>\n",
       ".rendered_html p {\n",
       "    font-size: 16px;\n",
       "    font-family: InputMonoCondensed;\n",
       "    text-align:justify}\n",
       "</style>\n"
      ],
      "text/plain": [
       "<IPython.core.display.HTML object>"
      ]
     },
     "metadata": {},
     "output_type": "display_data"
    }
   ],
   "source": [
    "%%html\n",
    "<style>\n",
    ".rendered_html p {\n",
    "    font-size: 16px;\n",
    "    font-family: InputMonoCondensed;\n",
    "    text-align:justify}\n",
    "</style>"
   ]
  },
  {
   "cell_type": "markdown",
   "metadata": {},
   "source": [
    "IDs of customers who made at least 3 orders in both 2020 and 2021.\n",
    "\n",
    "**Data View**  \n",
    "id: int64  \n",
    "user_id: object  \n",
    "order_date: datetime64[ns]  \n",
    "order_total: float64\n",
    "\n",
    "**Approach**\n",
    "pd.merge(df1, df2, how=\"inner\", on= \"id\")"
   ]
  },
  {
   "cell_type": "code",
   "execution_count": null,
   "metadata": {
    "scrolled": true
   },
   "outputs": [],
   "source": [
    "(\n",
    "    pd.merge(\n",
    "        amazon_orders.query(\n",
    "            'order_date >= \"2021-01-01 00:00:00\" and order_date <= \"2021-12-31 11:59:59\"'\n",
    "        )\n",
    "        .groupby([\"user_id\"])[\"id\"]\n",
    "        .count()\n",
    "        .gt(2)\n",
    "        .reset_index(),\n",
    "        amazon_orders.query(\n",
    "            'order_date >= \"2020-01-01 00:00:00\" and order_date <= \"2020-12-31 11:59:59\"'\n",
    "        )\n",
    "        .groupby([\"user_id\"])[\"id\"]\n",
    "        .count()\n",
    "        .gt(2)\n",
    "        .reset_index(),\n",
    "        how=\"inner\",\n",
    "        on=\"user_id\",\n",
    "    ).query(\"id_x == True and id_y == True\")\n",
    ")[\"user_id\"]\n"
   ]
  },
  {
   "cell_type": "markdown",
   "metadata": {},
   "source": [
    "The election is conducted in a city and everyone can vote for one or more candidates, or choose not to vote at all. Each person has 1 vote so if they vote for multiple candidates, their vote gets equally split across these candidates. For example, if a person votes for 2 candidates, these candidates receive an equivalent of 0.5 vote each.\n",
    "\n",
    "Find out who got the most votes and won the election. Output the name of the candidate or multiple names in case of a tie. To avoid issues with a floating-point error you can round the number of votes received by a candidate to 3 decimal places.\n",
    "\n",
    "**Data View**  \n",
    "voter: object  \n",
    "candidate: object  \n"
   ]
  },
  {
   "cell_type": "code",
   "execution_count": null,
   "metadata": {},
   "outputs": [],
   "source": [
    "(\n",
    "    pd.merge(\n",
    "        voting_results.dropna()\n",
    "        .groupby(\"voter\")\n",
    "        .size()\n",
    "        .to_frame(\"count\")\n",
    "        .rdiv(1)\n",
    "        .reset_index(),\n",
    "        voting_results.dropna(),\n",
    "        how=\"left\",\n",
    "        on=\"voter\",\n",
    "    )\n",
    "    .drop(\"voter\", axis=1)\n",
    "    .groupby(\"candidate\")[\"count\"]\n",
    "    .sum()\n",
    "    .reset_index()\n",
    "    .nlargest(1, \"count\")\n",
    ")\n"
   ]
  },
  {
   "cell_type": "markdown",
   "metadata": {},
   "source": [
    "**Problem Statement**  \n",
    "Find the customer with the highest daily total order cost between 2019-02-01 to 2019-05-01. If customer had more than one order on a certain day, sum the order costs on daily basis. Output customer's first name, total cost of their items, and the date.\n",
    "\n",
    "Assumption: every first name in the dataset is unique.\n",
    "\n",
    "**Data View**\n",
    "\n",
    "Dataframe #1: customers  \n",
    "id: int64  \n",
    "first_name: object  \n",
    "last_name: object  \n",
    "city: object  \n",
    "address: object  \n",
    "phone_number: object\n",
    "\n",
    "Dataframe #2: orders  \n",
    "id: int64  \n",
    "cust_id: int64  \n",
    "order_date: datetime64[ns]  \n",
    "order_details: object  \n",
    "total_order_cost: int64\n"
   ]
  },
  {
   "cell_type": "code",
   "execution_count": null,
   "metadata": {},
   "outputs": [],
   "source": [
    "(\n",
    "    pd.merge(\n",
    "        customers[[\"id\", \"first_name\"]],\n",
    "        (\n",
    "            orders.query(\n",
    "                'order_date > \"2019-02-01 00:00:00\" and order_date < \"2019-05-01 11:59:59\"'\n",
    "            )\n",
    "            .groupby([\"cust_id\", \"order_date\"])[\"total_order_cost\"]\n",
    "            .sum()\n",
    "            .reset_index()\n",
    "            .nlargest(1, \"total_order_cost\")\n",
    "            .rename(columns={\"cust_id\": \"id\"})\n",
    "        ),\n",
    "        on=\"id\",\n",
    "        how=\"right\",\n",
    "    ).drop(\"id\", axis=1)\n",
    ")\n"
   ]
  },
  {
   "cell_type": "markdown",
   "metadata": {},
   "source": [
    "American Express is reviewing their customers' transactions, and you have been tasked with locating the customer who has the third highest total transaction amount.\n",
    "\n",
    "The output should include the customer's id, as well as their first name and last name. For ranking the customers, use type of ranking with no gaps between subsequent ranks.\n",
    "\n",
    "**Data View**  \n",
    "customers\n",
    "\n",
    "id: int64  \n",
    "first_name: object  \n",
    "last_name: object  \n",
    "city: object  \n",
    "address: object  \n",
    "phone_number: object  \n",
    "\n",
    "card_orders  \n",
    "\n",
    "order_id: int64  \n",
    "cust_id: int64  \n",
    "order_date: datetime64[ns]  \n",
    "order_details: object   \n",
    "total_order_cost: int64  \n"
   ]
  },
  {
   "cell_type": "code",
   "execution_count": null,
   "metadata": {},
   "outputs": [],
   "source": [
    "(\n",
    "    pd.merge(\n",
    "        customers[[\"id\", \"first_name\", \"last_name\"]],\n",
    "        card_orders.drop(\"order_id\", axis=1)\n",
    "        .groupby([\"cust_id\"])\n",
    "        .sum(\"total_order_cost\")\n",
    "        .reset_index()\n",
    "        .rename(columns={\"cust_id\": \"id\"}),\n",
    "        how=\"right\",\n",
    "        on=\"id\"[\"total_order_cost\"].assign().rank(method=\"dense\", ascending=False),\n",
    "    )\n",
    ")\n"
   ]
  }
 ],
 "metadata": {
  "kernelspec": {
   "display_name": "Python 3 (ipykernel)",
   "language": "python",
   "name": "python3"
  },
  "language_info": {
   "codemirror_mode": {
    "name": "ipython",
    "version": 3
   },
   "file_extension": ".py",
   "mimetype": "text/x-python",
   "name": "python",
   "nbconvert_exporter": "python",
   "pygments_lexer": "ipython3",
   "version": "3.9.7"
  }
 },
 "nbformat": 4,
 "nbformat_minor": 2
}
